{
 "cells": [
  {
   "cell_type": "code",
   "execution_count": 334,
   "metadata": {},
   "outputs": [],
   "source": [
    "import seaborn as sns\n",
    "import pandas as pd\n",
    "import matplotlib.pyplot as plt\n",
    "import numpy as np\n",
    "from matplotlib.backends.backend_pdf import PdfPages\n",
    "from pylab import title, figure, xlabel, ylabel, xticks, bar, legend, axis, savefig\n",
    "from fpdf import FPDF"
   ]
  },
  {
   "cell_type": "code",
   "execution_count": 335,
   "metadata": {},
   "outputs": [],
   "source": [
    "e='Assignment.xlsx'"
   ]
  },
  {
   "cell_type": "code",
   "execution_count": 336,
   "metadata": {},
   "outputs": [
    {
     "data": {
      "text/plain": [
       "'Assignment.xlsx'"
      ]
     },
     "execution_count": 336,
     "metadata": {},
     "output_type": "execute_result"
    }
   ],
   "source": [
    "e"
   ]
  },
  {
   "cell_type": "code",
   "execution_count": 337,
   "metadata": {},
   "outputs": [
    {
     "data": {
      "text/plain": [
       "50"
      ]
     },
     "execution_count": 337,
     "metadata": {},
     "output_type": "execute_result"
    }
   ],
   "source": [
    "movies = pd.read_excel('Assignment.xlsx',header=3)\n",
    "movies.drop(['Unnamed: 0'], axis = 1,inplace=True )\n",
    "len(movies)"
   ]
  },
  {
   "cell_type": "code",
   "execution_count": 338,
   "metadata": {},
   "outputs": [],
   "source": [
    "#for i in range (0,len(movies),5):\n",
    " #   m=movies[i:i+5]\n",
    "    "
   ]
  },
  {
   "cell_type": "code",
   "execution_count": 339,
   "metadata": {},
   "outputs": [
    {
     "data": {
      "text/html": [
       "<div>\n",
       "<style scoped>\n",
       "    .dataframe tbody tr th:only-of-type {\n",
       "        vertical-align: middle;\n",
       "    }\n",
       "\n",
       "    .dataframe tbody tr th {\n",
       "        vertical-align: top;\n",
       "    }\n",
       "\n",
       "    .dataframe thead th {\n",
       "        text-align: right;\n",
       "    }\n",
       "</style>\n",
       "<table border=\"1\" class=\"dataframe\">\n",
       "  <thead>\n",
       "    <tr style=\"text-align: right;\">\n",
       "      <th></th>\n",
       "      <th>Student No</th>\n",
       "      <th>Name of Candidate</th>\n",
       "      <th>Registration</th>\n",
       "      <th>Grade</th>\n",
       "      <th>Gender</th>\n",
       "      <th>Name of school</th>\n",
       "      <th>Date of Birth</th>\n",
       "      <th>City of Residence</th>\n",
       "      <th>Date and time of test</th>\n",
       "      <th>Country of Residence</th>\n",
       "      <th>Extra time assistance</th>\n",
       "      <th>Question No.</th>\n",
       "      <th>Time Spent on question (sec)</th>\n",
       "      <th>Score if correct</th>\n",
       "      <th>Score if incorrect</th>\n",
       "      <th>Attempt status</th>\n",
       "      <th>What you marked</th>\n",
       "      <th>Correct Answer</th>\n",
       "      <th>Outcome (Correct/Incorrect/Not Attempted)</th>\n",
       "      <th>Your score</th>\n",
       "    </tr>\n",
       "  </thead>\n",
       "  <tbody>\n",
       "    <tr>\n",
       "      <th>15</th>\n",
       "      <td>4</td>\n",
       "      <td>oiy</td>\n",
       "      <td>22037432</td>\n",
       "      <td>4</td>\n",
       "      <td>F</td>\n",
       "      <td>JFJ</td>\n",
       "      <td>2009-04-09</td>\n",
       "      <td>Karachi</td>\n",
       "      <td>2020-12-16</td>\n",
       "      <td>Pakistan</td>\n",
       "      <td>No</td>\n",
       "      <td>Q1</td>\n",
       "      <td>47</td>\n",
       "      <td>2</td>\n",
       "      <td>-1</td>\n",
       "      <td>Attempted</td>\n",
       "      <td>B</td>\n",
       "      <td>A</td>\n",
       "      <td>Incorrect</td>\n",
       "      <td>-1</td>\n",
       "    </tr>\n",
       "    <tr>\n",
       "      <th>16</th>\n",
       "      <td>4</td>\n",
       "      <td>oiy</td>\n",
       "      <td>22037432</td>\n",
       "      <td>4</td>\n",
       "      <td>F</td>\n",
       "      <td>JFJ</td>\n",
       "      <td>2009-04-09</td>\n",
       "      <td>Karachi</td>\n",
       "      <td>2020-12-16</td>\n",
       "      <td>Pakistan</td>\n",
       "      <td>No</td>\n",
       "      <td>Q2</td>\n",
       "      <td>37</td>\n",
       "      <td>2</td>\n",
       "      <td>-1</td>\n",
       "      <td>Attempted</td>\n",
       "      <td>B</td>\n",
       "      <td>B</td>\n",
       "      <td>Correct</td>\n",
       "      <td>2</td>\n",
       "    </tr>\n",
       "    <tr>\n",
       "      <th>17</th>\n",
       "      <td>4</td>\n",
       "      <td>oiy</td>\n",
       "      <td>22037432</td>\n",
       "      <td>4</td>\n",
       "      <td>F</td>\n",
       "      <td>JFJ</td>\n",
       "      <td>2009-04-09</td>\n",
       "      <td>Karachi</td>\n",
       "      <td>2020-12-16</td>\n",
       "      <td>Pakistan</td>\n",
       "      <td>No</td>\n",
       "      <td>Q3</td>\n",
       "      <td>58</td>\n",
       "      <td>2</td>\n",
       "      <td>-1</td>\n",
       "      <td>Attempted</td>\n",
       "      <td>C</td>\n",
       "      <td>C</td>\n",
       "      <td>Correct</td>\n",
       "      <td>2</td>\n",
       "    </tr>\n",
       "    <tr>\n",
       "      <th>18</th>\n",
       "      <td>4</td>\n",
       "      <td>oiy</td>\n",
       "      <td>22037432</td>\n",
       "      <td>4</td>\n",
       "      <td>F</td>\n",
       "      <td>JFJ</td>\n",
       "      <td>2009-04-09</td>\n",
       "      <td>Karachi</td>\n",
       "      <td>2020-12-16</td>\n",
       "      <td>Pakistan</td>\n",
       "      <td>No</td>\n",
       "      <td>Q4</td>\n",
       "      <td>93</td>\n",
       "      <td>2</td>\n",
       "      <td>-1</td>\n",
       "      <td>Attempted</td>\n",
       "      <td>D</td>\n",
       "      <td>D</td>\n",
       "      <td>Correct</td>\n",
       "      <td>2</td>\n",
       "    </tr>\n",
       "    <tr>\n",
       "      <th>19</th>\n",
       "      <td>4</td>\n",
       "      <td>oiy</td>\n",
       "      <td>22037432</td>\n",
       "      <td>4</td>\n",
       "      <td>F</td>\n",
       "      <td>JFJ</td>\n",
       "      <td>2009-04-09</td>\n",
       "      <td>Karachi</td>\n",
       "      <td>2020-12-16</td>\n",
       "      <td>Pakistan</td>\n",
       "      <td>No</td>\n",
       "      <td>Q5</td>\n",
       "      <td>38</td>\n",
       "      <td>2</td>\n",
       "      <td>-1</td>\n",
       "      <td>Attempted</td>\n",
       "      <td>E</td>\n",
       "      <td>E</td>\n",
       "      <td>Correct</td>\n",
       "      <td>2</td>\n",
       "    </tr>\n",
       "  </tbody>\n",
       "</table>\n",
       "</div>"
      ],
      "text/plain": [
       "    Student No  Name of Candidate  Registration  Grade  Gender  \\\n",
       "15            4               oiy      22037432       4      F   \n",
       "16            4               oiy      22037432       4      F   \n",
       "17            4               oiy      22037432       4      F   \n",
       "18            4               oiy      22037432       4      F   \n",
       "19            4               oiy      22037432       4      F   \n",
       "\n",
       "   Name of school  Date of Birth  City of Residence Date and time of test  \\\n",
       "15             JFJ     2009-04-09           Karachi            2020-12-16   \n",
       "16             JFJ     2009-04-09           Karachi            2020-12-16   \n",
       "17             JFJ     2009-04-09           Karachi            2020-12-16   \n",
       "18             JFJ     2009-04-09           Karachi            2020-12-16   \n",
       "19             JFJ     2009-04-09           Karachi            2020-12-16   \n",
       "\n",
       "   Country of Residence Extra time assistance Question No.  \\\n",
       "15             Pakistan                    No           Q1   \n",
       "16             Pakistan                    No           Q2   \n",
       "17             Pakistan                    No           Q3   \n",
       "18             Pakistan                    No           Q4   \n",
       "19             Pakistan                    No           Q5   \n",
       "\n",
       "    Time Spent on question (sec)  Score if correct  Score if incorrect  \\\n",
       "15                            47                 2                  -1   \n",
       "16                            37                 2                  -1   \n",
       "17                            58                 2                  -1   \n",
       "18                            93                 2                  -1   \n",
       "19                            38                 2                  -1   \n",
       "\n",
       "   Attempt status  What you marked Correct Answer  \\\n",
       "15       Attempted               B              A   \n",
       "16       Attempted               B              B   \n",
       "17       Attempted               C              C   \n",
       "18       Attempted               D              D   \n",
       "19       Attempted               E              E   \n",
       "\n",
       "   Outcome (Correct/Incorrect/Not Attempted)  Your score  \n",
       "15                                 Incorrect          -1  \n",
       "16                                   Correct           2  \n",
       "17                                   Correct           2  \n",
       "18                                   Correct           2  \n",
       "19                                   Correct           2  "
      ]
     },
     "execution_count": 339,
     "metadata": {},
     "output_type": "execute_result"
    }
   ],
   "source": [
    "movies[15:20]"
   ]
  },
  {
   "cell_type": "code",
   "execution_count": 340,
   "metadata": {},
   "outputs": [],
   "source": [
    "m=movies[0:5]"
   ]
  },
  {
   "cell_type": "code",
   "execution_count": 341,
   "metadata": {},
   "outputs": [
    {
     "data": {
      "text/html": [
       "<div>\n",
       "<style scoped>\n",
       "    .dataframe tbody tr th:only-of-type {\n",
       "        vertical-align: middle;\n",
       "    }\n",
       "\n",
       "    .dataframe tbody tr th {\n",
       "        vertical-align: top;\n",
       "    }\n",
       "\n",
       "    .dataframe thead th {\n",
       "        text-align: right;\n",
       "    }\n",
       "</style>\n",
       "<table border=\"1\" class=\"dataframe\">\n",
       "  <thead>\n",
       "    <tr style=\"text-align: right;\">\n",
       "      <th></th>\n",
       "      <th>Student No</th>\n",
       "      <th>Name of Candidate</th>\n",
       "      <th>Registration</th>\n",
       "      <th>Grade</th>\n",
       "      <th>Gender</th>\n",
       "      <th>Name of school</th>\n",
       "      <th>Date of Birth</th>\n",
       "      <th>City of Residence</th>\n",
       "      <th>Date and time of test</th>\n",
       "      <th>Country of Residence</th>\n",
       "      <th>Extra time assistance</th>\n",
       "      <th>Question No.</th>\n",
       "      <th>Time Spent on question (sec)</th>\n",
       "      <th>Score if correct</th>\n",
       "      <th>Score if incorrect</th>\n",
       "      <th>Attempt status</th>\n",
       "      <th>What you marked</th>\n",
       "      <th>Correct Answer</th>\n",
       "      <th>Outcome (Correct/Incorrect/Not Attempted)</th>\n",
       "      <th>Your score</th>\n",
       "    </tr>\n",
       "  </thead>\n",
       "  <tbody>\n",
       "    <tr>\n",
       "      <th>0</th>\n",
       "      <td>1</td>\n",
       "      <td>abc</td>\n",
       "      <td>32030938</td>\n",
       "      <td>2</td>\n",
       "      <td>M</td>\n",
       "      <td>YTH</td>\n",
       "      <td>2012-11-22</td>\n",
       "      <td>Tokyo</td>\n",
       "      <td>2020-12-16</td>\n",
       "      <td>Japan</td>\n",
       "      <td>No</td>\n",
       "      <td>Q1</td>\n",
       "      <td>60</td>\n",
       "      <td>2</td>\n",
       "      <td>-1</td>\n",
       "      <td>Attempted</td>\n",
       "      <td>A</td>\n",
       "      <td>A</td>\n",
       "      <td>Correct</td>\n",
       "      <td>2</td>\n",
       "    </tr>\n",
       "    <tr>\n",
       "      <th>1</th>\n",
       "      <td>1</td>\n",
       "      <td>abc</td>\n",
       "      <td>32030938</td>\n",
       "      <td>2</td>\n",
       "      <td>M</td>\n",
       "      <td>YTH</td>\n",
       "      <td>2012-11-22</td>\n",
       "      <td>Tokyo</td>\n",
       "      <td>2020-12-16</td>\n",
       "      <td>Japan</td>\n",
       "      <td>No</td>\n",
       "      <td>Q2</td>\n",
       "      <td>52</td>\n",
       "      <td>2</td>\n",
       "      <td>-1</td>\n",
       "      <td>Unattempted</td>\n",
       "      <td>NaN</td>\n",
       "      <td>B</td>\n",
       "      <td>Unattempted</td>\n",
       "      <td>0</td>\n",
       "    </tr>\n",
       "    <tr>\n",
       "      <th>2</th>\n",
       "      <td>1</td>\n",
       "      <td>abc</td>\n",
       "      <td>32030938</td>\n",
       "      <td>2</td>\n",
       "      <td>M</td>\n",
       "      <td>YTH</td>\n",
       "      <td>2012-11-22</td>\n",
       "      <td>Tokyo</td>\n",
       "      <td>2020-12-16</td>\n",
       "      <td>Japan</td>\n",
       "      <td>No</td>\n",
       "      <td>Q3</td>\n",
       "      <td>89</td>\n",
       "      <td>2</td>\n",
       "      <td>-1</td>\n",
       "      <td>Attempted</td>\n",
       "      <td>C</td>\n",
       "      <td>C</td>\n",
       "      <td>Incorrect</td>\n",
       "      <td>-1</td>\n",
       "    </tr>\n",
       "    <tr>\n",
       "      <th>3</th>\n",
       "      <td>1</td>\n",
       "      <td>abc</td>\n",
       "      <td>32030938</td>\n",
       "      <td>2</td>\n",
       "      <td>M</td>\n",
       "      <td>YTH</td>\n",
       "      <td>2012-11-22</td>\n",
       "      <td>Tokyo</td>\n",
       "      <td>2020-12-16</td>\n",
       "      <td>Japan</td>\n",
       "      <td>No</td>\n",
       "      <td>Q4</td>\n",
       "      <td>41</td>\n",
       "      <td>2</td>\n",
       "      <td>-1</td>\n",
       "      <td>Unattempted</td>\n",
       "      <td>NaN</td>\n",
       "      <td>D</td>\n",
       "      <td>Unattempted</td>\n",
       "      <td>0</td>\n",
       "    </tr>\n",
       "    <tr>\n",
       "      <th>4</th>\n",
       "      <td>1</td>\n",
       "      <td>abc</td>\n",
       "      <td>32030938</td>\n",
       "      <td>2</td>\n",
       "      <td>M</td>\n",
       "      <td>YTH</td>\n",
       "      <td>2012-11-22</td>\n",
       "      <td>Tokyo</td>\n",
       "      <td>2020-12-16</td>\n",
       "      <td>Japan</td>\n",
       "      <td>No</td>\n",
       "      <td>Q5</td>\n",
       "      <td>56</td>\n",
       "      <td>2</td>\n",
       "      <td>-1</td>\n",
       "      <td>Attempted</td>\n",
       "      <td>E</td>\n",
       "      <td>E</td>\n",
       "      <td>Correct</td>\n",
       "      <td>2</td>\n",
       "    </tr>\n",
       "  </tbody>\n",
       "</table>\n",
       "</div>"
      ],
      "text/plain": [
       "   Student No  Name of Candidate  Registration  Grade  Gender Name of school   \\\n",
       "0            1               abc      32030938       2      M             YTH   \n",
       "1            1               abc      32030938       2      M             YTH   \n",
       "2            1               abc      32030938       2      M             YTH   \n",
       "3            1               abc      32030938       2      M             YTH   \n",
       "4            1               abc      32030938       2      M             YTH   \n",
       "\n",
       "  Date of Birth  City of Residence Date and time of test Country of Residence  \\\n",
       "0     2012-11-22             Tokyo            2020-12-16                Japan   \n",
       "1     2012-11-22             Tokyo            2020-12-16                Japan   \n",
       "2     2012-11-22             Tokyo            2020-12-16                Japan   \n",
       "3     2012-11-22             Tokyo            2020-12-16                Japan   \n",
       "4     2012-11-22             Tokyo            2020-12-16                Japan   \n",
       "\n",
       "  Extra time assistance Question No.  Time Spent on question (sec)  \\\n",
       "0                    No           Q1                            60   \n",
       "1                    No           Q2                            52   \n",
       "2                    No           Q3                            89   \n",
       "3                    No           Q4                            41   \n",
       "4                    No           Q5                            56   \n",
       "\n",
       "   Score if correct  Score if incorrect Attempt status  What you marked  \\\n",
       "0                 2                  -1       Attempted               A   \n",
       "1                 2                  -1     Unattempted             NaN   \n",
       "2                 2                  -1       Attempted               C   \n",
       "3                 2                  -1     Unattempted             NaN   \n",
       "4                 2                  -1       Attempted               E   \n",
       "\n",
       "  Correct Answer Outcome (Correct/Incorrect/Not Attempted)  Your score  \n",
       "0              A                                   Correct           2  \n",
       "1              B                               Unattempted           0  \n",
       "2              C                                 Incorrect          -1  \n",
       "3              D                               Unattempted           0  \n",
       "4              E                                   Correct           2  "
      ]
     },
     "execution_count": 341,
     "metadata": {},
     "output_type": "execute_result"
    }
   ],
   "source": [
    "#m.drop(['Unnamed: 0'], axis = 1,inplace=True )\n",
    "m"
   ]
  },
  {
   "cell_type": "code",
   "execution_count": 342,
   "metadata": {},
   "outputs": [
    {
     "data": {
      "text/html": [
       "<div>\n",
       "<style scoped>\n",
       "    .dataframe tbody tr th:only-of-type {\n",
       "        vertical-align: middle;\n",
       "    }\n",
       "\n",
       "    .dataframe tbody tr th {\n",
       "        vertical-align: top;\n",
       "    }\n",
       "\n",
       "    .dataframe thead th {\n",
       "        text-align: right;\n",
       "    }\n",
       "</style>\n",
       "<table border=\"1\" class=\"dataframe\">\n",
       "  <thead>\n",
       "    <tr style=\"text-align: right;\">\n",
       "      <th></th>\n",
       "      <th>Student No</th>\n",
       "      <th>Name of Candidate</th>\n",
       "      <th>Registration</th>\n",
       "      <th>Grade</th>\n",
       "      <th>Gender</th>\n",
       "      <th>Name of school</th>\n",
       "      <th>Date of Birth</th>\n",
       "      <th>City of Residence</th>\n",
       "      <th>Date and time of test</th>\n",
       "      <th>Country of Residence</th>\n",
       "      <th>Extra time assistance</th>\n",
       "      <th>Question No.</th>\n",
       "      <th>Time Spent on question (sec)</th>\n",
       "      <th>Score if correct</th>\n",
       "      <th>Score if incorrect</th>\n",
       "      <th>Attempt status</th>\n",
       "      <th>What you marked</th>\n",
       "      <th>Correct Answer</th>\n",
       "      <th>Outcome (Correct/Incorrect/Not Attempted)</th>\n",
       "      <th>Your score</th>\n",
       "    </tr>\n",
       "  </thead>\n",
       "  <tbody>\n",
       "    <tr>\n",
       "      <th>0</th>\n",
       "      <td>1</td>\n",
       "      <td>abc</td>\n",
       "      <td>32030938</td>\n",
       "      <td>2</td>\n",
       "      <td>M</td>\n",
       "      <td>YTH</td>\n",
       "      <td>2012-11-22</td>\n",
       "      <td>Tokyo</td>\n",
       "      <td>2020-12-16</td>\n",
       "      <td>Japan</td>\n",
       "      <td>No</td>\n",
       "      <td>Q1</td>\n",
       "      <td>60</td>\n",
       "      <td>2</td>\n",
       "      <td>-1</td>\n",
       "      <td>Attempted</td>\n",
       "      <td>A</td>\n",
       "      <td>A</td>\n",
       "      <td>Correct</td>\n",
       "      <td>2</td>\n",
       "    </tr>\n",
       "    <tr>\n",
       "      <th>1</th>\n",
       "      <td>1</td>\n",
       "      <td>abc</td>\n",
       "      <td>32030938</td>\n",
       "      <td>2</td>\n",
       "      <td>M</td>\n",
       "      <td>YTH</td>\n",
       "      <td>2012-11-22</td>\n",
       "      <td>Tokyo</td>\n",
       "      <td>2020-12-16</td>\n",
       "      <td>Japan</td>\n",
       "      <td>No</td>\n",
       "      <td>Q2</td>\n",
       "      <td>52</td>\n",
       "      <td>2</td>\n",
       "      <td>-1</td>\n",
       "      <td>Unattempted</td>\n",
       "      <td>NaN</td>\n",
       "      <td>B</td>\n",
       "      <td>Unattempted</td>\n",
       "      <td>0</td>\n",
       "    </tr>\n",
       "    <tr>\n",
       "      <th>2</th>\n",
       "      <td>1</td>\n",
       "      <td>abc</td>\n",
       "      <td>32030938</td>\n",
       "      <td>2</td>\n",
       "      <td>M</td>\n",
       "      <td>YTH</td>\n",
       "      <td>2012-11-22</td>\n",
       "      <td>Tokyo</td>\n",
       "      <td>2020-12-16</td>\n",
       "      <td>Japan</td>\n",
       "      <td>No</td>\n",
       "      <td>Q3</td>\n",
       "      <td>89</td>\n",
       "      <td>2</td>\n",
       "      <td>-1</td>\n",
       "      <td>Attempted</td>\n",
       "      <td>C</td>\n",
       "      <td>C</td>\n",
       "      <td>Incorrect</td>\n",
       "      <td>-1</td>\n",
       "    </tr>\n",
       "    <tr>\n",
       "      <th>3</th>\n",
       "      <td>1</td>\n",
       "      <td>abc</td>\n",
       "      <td>32030938</td>\n",
       "      <td>2</td>\n",
       "      <td>M</td>\n",
       "      <td>YTH</td>\n",
       "      <td>2012-11-22</td>\n",
       "      <td>Tokyo</td>\n",
       "      <td>2020-12-16</td>\n",
       "      <td>Japan</td>\n",
       "      <td>No</td>\n",
       "      <td>Q4</td>\n",
       "      <td>41</td>\n",
       "      <td>2</td>\n",
       "      <td>-1</td>\n",
       "      <td>Unattempted</td>\n",
       "      <td>NaN</td>\n",
       "      <td>D</td>\n",
       "      <td>Unattempted</td>\n",
       "      <td>0</td>\n",
       "    </tr>\n",
       "    <tr>\n",
       "      <th>4</th>\n",
       "      <td>1</td>\n",
       "      <td>abc</td>\n",
       "      <td>32030938</td>\n",
       "      <td>2</td>\n",
       "      <td>M</td>\n",
       "      <td>YTH</td>\n",
       "      <td>2012-11-22</td>\n",
       "      <td>Tokyo</td>\n",
       "      <td>2020-12-16</td>\n",
       "      <td>Japan</td>\n",
       "      <td>No</td>\n",
       "      <td>Q5</td>\n",
       "      <td>56</td>\n",
       "      <td>2</td>\n",
       "      <td>-1</td>\n",
       "      <td>Attempted</td>\n",
       "      <td>E</td>\n",
       "      <td>E</td>\n",
       "      <td>Correct</td>\n",
       "      <td>2</td>\n",
       "    </tr>\n",
       "  </tbody>\n",
       "</table>\n",
       "</div>"
      ],
      "text/plain": [
       "   Student No  Name of Candidate  Registration  Grade  Gender Name of school   \\\n",
       "0            1               abc      32030938       2      M             YTH   \n",
       "1            1               abc      32030938       2      M             YTH   \n",
       "2            1               abc      32030938       2      M             YTH   \n",
       "3            1               abc      32030938       2      M             YTH   \n",
       "4            1               abc      32030938       2      M             YTH   \n",
       "\n",
       "  Date of Birth  City of Residence Date and time of test Country of Residence  \\\n",
       "0     2012-11-22             Tokyo            2020-12-16                Japan   \n",
       "1     2012-11-22             Tokyo            2020-12-16                Japan   \n",
       "2     2012-11-22             Tokyo            2020-12-16                Japan   \n",
       "3     2012-11-22             Tokyo            2020-12-16                Japan   \n",
       "4     2012-11-22             Tokyo            2020-12-16                Japan   \n",
       "\n",
       "  Extra time assistance Question No.  Time Spent on question (sec)  \\\n",
       "0                    No           Q1                            60   \n",
       "1                    No           Q2                            52   \n",
       "2                    No           Q3                            89   \n",
       "3                    No           Q4                            41   \n",
       "4                    No           Q5                            56   \n",
       "\n",
       "   Score if correct  Score if incorrect Attempt status  What you marked  \\\n",
       "0                 2                  -1       Attempted               A   \n",
       "1                 2                  -1     Unattempted             NaN   \n",
       "2                 2                  -1       Attempted               C   \n",
       "3                 2                  -1     Unattempted             NaN   \n",
       "4                 2                  -1       Attempted               E   \n",
       "\n",
       "  Correct Answer Outcome (Correct/Incorrect/Not Attempted)  Your score  \n",
       "0              A                                   Correct           2  \n",
       "1              B                               Unattempted           0  \n",
       "2              C                                 Incorrect          -1  \n",
       "3              D                               Unattempted           0  \n",
       "4              E                                   Correct           2  "
      ]
     },
     "execution_count": 342,
     "metadata": {},
     "output_type": "execute_result"
    }
   ],
   "source": [
    "m"
   ]
  },
  {
   "cell_type": "code",
   "execution_count": 343,
   "metadata": {},
   "outputs": [
    {
     "data": {
      "image/png": "[encoded data removed]",
      "text/plain": [
       "<Figure size 432x288 with 2 Axes>"
      ]
     },
     "metadata": {
      "needs_background": "light"
     },
     "output_type": "display_data"
    }
   ],
   "source": [
    "flights = m.pivot_table(index=\"Attempt status \", columns=\"Outcome (Correct/Incorrect/Not Attempted)\", values=\"Your score\")\n",
    "ax = sns.heatmap(flights,annot=True , cmap=\"magma\")\n",
    "#plt.pie()"
   ]
  },
  {
   "cell_type": "code",
   "execution_count": 344,
   "metadata": {},
   "outputs": [],
   "source": [
    "#m['Time Spent on question (sec)']"
   ]
  },
  {
   "cell_type": "code",
   "execution_count": 345,
   "metadata": {},
   "outputs": [
    {
     "data": {
      "text/plain": [
       "'Your score'"
      ]
     },
     "execution_count": 345,
     "metadata": {},
     "output_type": "execute_result"
    }
   ],
   "source": [
    "m.columns[19]"
   ]
  },
  {
   "cell_type": "code",
   "execution_count": 346,
   "metadata": {},
   "outputs": [
    {
     "data": {
      "image/png": "[encoded data removed]",
      "text/plain": [
       "<Figure size 432x288 with 1 Axes>"
      ]
     },
     "metadata": {},
     "output_type": "display_data"
    }
   ],
   "source": [
    "plt.pie(m['Time Spent on question (sec)'],labels= m['Question No.'],autopct='%1.0f%%')\n",
    "#plt.axis('equal')\n",
    "#plt.show()\n",
    "#plt.savefig('g2.pdf')\n",
    "plt.title('hello', fontdict={'fontsize': 30},loc='center')\n",
    "savefig('p2.png')"
   ]
  },
  {
   "cell_type": "code",
   "execution_count": 347,
   "metadata": {},
   "outputs": [
    {
     "data": {
      "image/png": "[encoded data removed]",
      "text/plain": [
       "<Figure size 432x288 with 1 Axes>"
      ]
     },
     "metadata": {
      "needs_background": "light"
     },
     "output_type": "display_data"
    }
   ],
   "source": [
    "p=plt.bar( m['Question No.'],m['Time Spent on question (sec)'],)\n",
    "p=plt.legend(labels=['Time Spent on question (sec)'])\n",
    "#plt.grid(True)\n",
    "#plt.show()\n",
    "plt.title('hello', fontdict={'fontsize': 30},loc='center')\n",
    "savefig('p1.png')"
   ]
  },
  {
   "cell_type": "code",
   "execution_count": 348,
   "metadata": {},
   "outputs": [],
   "source": [
    "#a=m['Attempt status ']\n"
   ]
  },
  {
   "cell_type": "code",
   "execution_count": 349,
   "metadata": {},
   "outputs": [
    {
     "name": "stderr",
     "output_type": "stream",
     "text": [
      "/home/prateek/.local/lib/python3.8/site-packages/pandas/core/frame.py:4290: SettingWithCopyWarning: \n",
      "A value is trying to be set on a copy of a slice from a DataFrame\n",
      "\n",
      "See the caveats in the documentation: https://pandas.pydata.org/pandas-docs/stable/user_guide/indexing.html#returning-a-view-versus-a-copy\n",
      "  return super().rename(\n"
     ]
    },
    {
     "name": "stdout",
     "output_type": "stream",
     "text": [
      "Index(['Unattempted', 'Attempted'], dtype='object', name='Attempt status ')\n",
      "Attempt status \n",
      "Unattempted    2\n",
      "Attempted      3\n",
      "Name: q_n, dtype: int64\n",
      "Attempted\n"
     ]
    },
    {
     "data": {
      "image/png": "[encoded data removed]",
      "text/plain": [
       "<Figure size 432x288 with 1 Axes>"
      ]
     },
     "metadata": {},
     "output_type": "display_data"
    }
   ],
   "source": [
    "m.rename(columns={'Question No.':'q_n'},inplace = True)\n",
    "from collections import Counter\n",
    "title_type = m.groupby('Attempt status ').agg('count')\n",
    "\n",
    "type_labels = title_type.q_n.sort_values().index \n",
    "type_counts = title_type.q_n.sort_values()\n",
    "print(type_labels)\n",
    "print(type_counts)\n",
    "print(type_labels[1])\n",
    "#plt.pie(a,labels=m['Attempt status '],autopct='%1.0f%%')\n",
    "type_show_ids = plt.pie(type_counts, labels=type_labels, autopct='%1.1f%%', shadow=True,)\n",
    "#plt.axis('equal')\n",
    "#plt.show()\n",
    "#plt.savefig('g3.pdf')\n",
    "plt.title('hello', fontdict={'fontsize': 30},loc='center')\n",
    "savefig('p3.png')\n"
   ]
  },
  {
   "cell_type": "code",
   "execution_count": 350,
   "metadata": {},
   "outputs": [
    {
     "data": {
      "image/png": "[encoded data removed]",
      "text/plain": [
       "<Figure size 432x288 with 1 Axes>"
      ]
     },
     "metadata": {},
     "output_type": "display_data"
    }
   ],
   "source": [
    "from collections import Counter\n",
    "title_type = m.groupby('Outcome (Correct/Incorrect/Not Attempted)').agg('count')\n",
    "m.rename(columns={'Question No.':'q_n'},inplace = True)\n",
    "type_labels = title_type.q_n.sort_values().index \n",
    "type_counts = title_type.q_n.sort_values()\n",
    "#plt.pie(a,labels=m['Attempt status '],autopct='%1.0f%%')\n",
    "\n",
    "type_show_ids = plt.pie(type_counts, labels=type_labels, autopct='%1.1f%%', shadow=True,)\n",
    "#plt.axis('equal')\n",
    "#plt.show()\n",
    "plt.title('hello', fontdict={'fontsize': 30},loc='center')\n",
    "savefig('p4.png')\n",
    "\n",
    "#plt.savefig('g5.pdf')\n"
   ]
  },
  {
   "cell_type": "code",
   "execution_count": 351,
   "metadata": {},
   "outputs": [
    {
     "name": "stdout",
     "output_type": "stream",
     "text": [
      "out\n",
      "Correct        2\n",
      "Incorrect      1\n",
      "Unattempted    2\n",
      "Name: a_s, dtype: int64\n",
      "0      Attempted\n",
      "1    Unattempted\n",
      "2      Attempted\n",
      "3    Unattempted\n",
      "4      Attempted\n",
      "Name: a_s, dtype: object\n",
      "3\n",
      "[2, 1]\n",
      "2\n"
     ]
    },
    {
     "data": {
      "image/png": "[encoded data removed]",
      "text/plain": [
       "<Figure size 432x288 with 1 Axes>"
      ]
     },
     "metadata": {},
     "output_type": "display_data"
    }
   ],
   "source": [
    "from collections import Counter\n",
    "m.rename(columns={'Outcome (Correct/Incorrect/Not Attempted)':'out'},inplace = True)\n",
    "m.rename(columns={'Attempt status ':'a_s'},inplace = True)\n",
    "title_type = m.a_s.groupby(m.out).agg('count')\n",
    "print(title_type)\n",
    "print(m['a_s'])\n",
    "mc=m['a_s'].str.contains('Attempted').sum()\n",
    "print(mc)\n",
    "if mc!=5:\n",
    "    if len(title_type)==3:\n",
    "        d=[title_type[0],title_type[1]]\n",
    "        print(d)\n",
    "        v=['correct','incorrect']\n",
    "        print(len(d))\n",
    "        type_show_ids = plt.pie(d, labels=v, autopct='%1.1f%%', shadow=True,)\n",
    "    else:\n",
    "        d=[title_type[0]]\n",
    "        v=['correct']\n",
    "        type_show_ids = plt.pie(d, labels=v, autopct='%1.1f%%', shadow=True,)\n",
    "if mc==5:\n",
    "    d=[title_type[0],title_type[1]]\n",
    "    print(d)\n",
    "    v=['correct','incorrect']\n",
    "    print(len(d))\n",
    "    type_show_ids = plt.pie(d, labels=v, autopct='%1.1f%%', shadow=True,)\n",
    "    \n",
    "#plt.axis('equal')\n",
    "#plt.show()\n",
    "plt.title('hello', fontdict={'fontsize': 30},loc='center')\n",
    "savefig('p5.png')\n",
    "\n"
   ]
  },
  {
   "cell_type": "code",
   "execution_count": 235,
   "metadata": {},
   "outputs": [
    {
     "data": {
      "text/plain": [
       "2"
      ]
     },
     "execution_count": 235,
     "metadata": {},
     "output_type": "execute_result"
    }
   ],
   "source": [
    "len(title_type)"
   ]
  },
  {
   "cell_type": "code",
   "execution_count": 228,
   "metadata": {},
   "outputs": [
    {
     "data": {
      "text/plain": [
       "3"
      ]
     },
     "execution_count": 228,
     "metadata": {},
     "output_type": "execute_result"
    }
   ],
   "source": [
    "title_type.transpose()\n",
    "title_type[0]"
   ]
  },
  {
   "cell_type": "code",
   "execution_count": 206,
   "metadata": {},
   "outputs": [
    {
     "data": {
      "text/plain": [
       "2"
      ]
     },
     "execution_count": 206,
     "metadata": {},
     "output_type": "execute_result"
    }
   ],
   "source": [
    "d={1:title_type[0],2:title_type[1]}\n",
    "len(d)\n",
    "#v"
   ]
  },
  {
   "cell_type": "code",
   "execution_count": 158,
   "metadata": {
    "scrolled": true
   },
   "outputs": [
    {
     "data": {
      "text/plain": [
       "''"
      ]
     },
     "execution_count": 158,
     "metadata": {},
     "output_type": "execute_result"
    }
   ],
   "source": [
    "\n",
    "c = [2.0, 4.0, 6.0, 8.0]\n",
    "pdf = FPDF() \n",
    "# Add a page\n",
    "pdf.alias_nb_pages()\n",
    "pdf.add_page() \n",
    "  \n",
    "# set style and size of font  \n",
    "# that you want in the pdf \n",
    "pdf.set_font(\"Arial\", size = 15) \n",
    "  \n",
    "# create a cell \n",
    "pdf.cell(200, 10, txt = \"Wisdom Tests and Math Challenge\",  ln = 1, align = 'C') \n",
    "  \n",
    "# add another cell \n",
    "pdf.cell(200, 10, txt = \"A Computer Science portal for geeks.\", ln = 2, align = 'C') \n",
    "\n",
    "pdf.cell(55,10,txt=\"name of candidate\",border=0,ln =0,align='C')\n",
    "pdf.cell(30,10,'%s' % (m['Name of Candidate'].iloc[0]),1,0,'C')\n",
    "pdf.cell(55,10,txt=\"Registration No\",border=0,ln =0,align='C')\n",
    "pdf.cell(30,10,'%s' % (m['Registration'].iloc[0]),1,1,'C')\n",
    "pdf.cell(55,10,'Grade',0,0,'C')\n",
    "pdf.cell(30,10,'%s' % (m['Grade '].iloc[0]),1,0,'C')\n",
    "pdf.cell(55,10,'Gender',0,0,'C')\n",
    "pdf.cell(30,10,'%s' % (m['Gender'].iloc[0]),1,1,'C')\n",
    "pdf.cell(55,10,'School Name',0,0,'C')\n",
    "pdf.cell(30,10,'%s' % (m['Name of school '].iloc[0]),1,0,'C')\n",
    "pdf.cell(55,10,'Date of birth',0,0,'C')\n",
    "pdf.cell(30,10,'%s' % (m['Date of Birth '].iloc[0].date()),1,1,'C')\n",
    "pdf.cell(55,10,'City of Residence',0,0,'C')\n",
    "pdf.cell(30,10,'%s' % (m['City of Residence'].iloc[0]),1,0,'C')\n",
    "pdf.cell(55,10,'Date of test',0,0,'C')\n",
    "pdf.cell(30,10,'%9s' % (m['Date and time of test'].iloc[0].date()),1,1,'C')\n",
    "pdf.cell(55,10,'Country of Residence',0,0,'C')\n",
    "pdf.cell(30,10,'%s' % (m['Country of Residence'].iloc[0]),1,0,'C')\n",
    "pdf.cell(55,10,'Extra Time assistance',0,0,'C')\n",
    "pdf.cell(30,10,'%s' % (m['Extra time assistance'].iloc[0]),1,1,'C')\n",
    "pdf.cell(0,10,'','B',1,'C')\n",
    "pdf.cell(14,10, 'ques.','L',0,'C')\n",
    "#pdf.cell(10,20, 'No.','B',0,'c')\n",
    "pdf.cell(22, 10, 'Time','L',0,'C')\n",
    "pdf.cell(20, 10, 'score','L',0,'C')\n",
    "pdf.cell(17, 10, 'score','L',0,'C')\n",
    "pdf.cell(35, 10, 'Attempt','L',0,'C')\n",
    "pdf.cell(15, 10, 'what','L',0,'C')\n",
    "pdf.cell(20, 10, 'Correct','L',0,'C')\n",
    "pdf.cell(32, 10, 'Outcome','L',0,'C')\n",
    "pdf.cell(15, 10, 'Your','L',0,'C')\n",
    "pdf.cell(0,10, '','R',1,'C')\n",
    "pdf.cell(14,10, 'No.','L',0,'C')\n",
    "pdf.cell(22,10, 'spent on','L',0,'C')\n",
    "pdf.cell(20, 10, 'if ','L',0,'C')\n",
    "pdf.cell(17, 10, 'if ','L',0,'C')\n",
    "pdf.cell(35, 10, 'status','L',0,'C')\n",
    "pdf.cell(15, 10, 'you ','L',0,'C')\n",
    "pdf.cell(20, 10, 'Answer','L',0,'C')\n",
    "pdf.cell(32, 10, '','L',0,'C')\n",
    "pdf.cell(20, 10, 'score','L',0,'L')\n",
    "pdf.cell(0,10, '','R',1,'C')\n",
    "pdf.cell(14,10, '','L',0,'C')\n",
    "pdf.cell(22,10, 'question','L',0,'C')\n",
    "pdf.cell(20, 10, 'Correct','L',0,'C')\n",
    "pdf.cell(17, 10, 'worng','L',0,'C')\n",
    "pdf.cell(35, 10, '','L',0,'C')\n",
    "pdf.cell(15, 10, 'mark','L',0,'C')\n",
    "pdf.cell(20, 10, '','L',0,'C')\n",
    "pdf.cell(32, 10, '','L',0,'C')\n",
    "pdf.cell(15, 10, '','L',0,'C')\n",
    "pdf.cell(0,10, '','R',1,'C')\n",
    "\n",
    "#pdf.cell(m)\n",
    "#pdf.cell(40,10, '%s' % (str(m.iloc[0])),1,1,'c')\n",
    "for i in range(len(m)):\n",
    "    #pdf.cell(40,10, '%s' % (str(m.iloc[i])),1,1,'c')\n",
    "    pdf.cell(14,10, '%s' % (str(m['q_n'].iloc[i])),1,0,'C')\n",
    "    pdf.cell(22, 10, '%s' % (m['Time Spent on question (sec)'].iloc[i]),1,0,'C')\n",
    "    pdf.cell(20, 10, '%s' %(m['Score if correct'].iloc[i]),1,0,'C')\n",
    "    pdf.cell(17, 10, '%s' %(m['Score if incorrect'].iloc[i]),1,0,'C')\n",
    "    pdf.cell(35, 10, '%s' %(m['a_s'].iloc[i]),1,0,'C')\n",
    "    pdf.cell(15, 10, '%s' %(m['What you marked'].iloc[i]),1,0,'C')\n",
    "    pdf.cell(20, 10, '%s' %(m['Correct Answer'].iloc[i]),1,0,'C')\n",
    "    pdf.cell(32, 10, '%s' %(m['out'].iloc[i]),1,0,'C')\n",
    "    pdf.cell(15, 10, '%s' %(m['Your score'].iloc[i]),1,1,'C')\n",
    "pdf.cell(35,10,'Total Score',0,0,'C')\n",
    "pdf.cell(15, 10, '%s' % (sum(m['Your score'])),1,0,'C')\n",
    "pdf.cell(65,10,'Your overall percentile',0,0,'C')\n",
    "pdf.cell(15, 10, '',1,1,'C')\n",
    "pdf.add_page()\n",
    "pdf.image('p1.png', x = 1, y = 180, w = +60 , h = +60, type = '', link = '')\n",
    "pdf.image('p2.png', x = 60, y = 180, w = 80, h = 75,type = '', link = '')\n",
    "pdf.image('p3.png', x = 100, y = 220, w = 80, h = 75, type = '', link = '')\n",
    "pdf.image('p4.png', x = 30, y = 230, w = 80, h = 75, type = '', link = '')\n",
    "pdf.image('p5.png', x = None, y = None, w = 80, h = 75, type = '', link = '')\n",
    "pdf.output(\"GFG{}.pdf\".format(i))   "
   ]
  },
  {
   "cell_type": "code",
   "execution_count": null,
   "metadata": {},
   "outputs": [],
   "source": []
  },
  {
   "cell_type": "code",
   "execution_count": null,
   "metadata": {},
   "outputs": [],
   "source": [
    "m.columns[19]"
   ]
  },
  {
   "cell_type": "code",
   "execution_count": null,
   "metadata": {},
   "outputs": [],
   "source": [
    "sum(m['Your score'])"
   ]
  },
  {
   "cell_type": "code",
   "execution_count": null,
   "metadata": {},
   "outputs": [],
   "source": [
    "m"
   ]
  },
  {
   "cell_type": "code",
   "execution_count": null,
   "metadata": {},
   "outputs": [],
   "source": [
    "print('hii its \\n prateek \\n hello')"
   ]
  },
  {
   "cell_type": "code",
   "execution_count": null,
   "metadata": {},
   "outputs": [],
   "source": [
    "m['Date of Birth ']"
   ]
  },
  {
   "cell_type": "code",
   "execution_count": null,
   "metadata": {},
   "outputs": [],
   "source": [
    "import time\n",
    "ts=m['Date and time of test'].iloc[2].date()\n",
    "ts\n",
    "#import pandas\n",
    "#ts.Series"
   ]
  },
  {
   "cell_type": "code",
   "execution_count": null,
   "metadata": {},
   "outputs": [],
   "source": [
    "print(time.strftime(\"%x\", ts))"
   ]
  },
  {
   "cell_type": "code",
   "execution_count": null,
   "metadata": {},
   "outputs": [],
   "source": [
    "ts = time.gmtime()\n",
    "ts"
   ]
  },
  {
   "cell_type": "code",
   "execution_count": null,
   "metadata": {},
   "outputs": [],
   "source": [
    "import pandas as pd \n",
    "  \n",
    "# Creating the Series \n",
    "sr = pd.Series(['2012-10-21 09:30', '2019-7-18 12:30', '2008-02-2 10:30', \n",
    "               '2010-4-22 09:25', '2019-11-8 02:22']) \n",
    "print(sr) \n",
    "# Creating the index \n",
    "idx = ['Day 1', 'Day 2', 'Day 3', 'Day 4', 'Day 5'] \n",
    "  \n",
    "# set the index \n",
    "sr.index = idx \n",
    "print(sr)\n",
    "  \n",
    "# Convert the underlying data to datetime  \n",
    "sr = pd.to_datetime(sr) \n",
    "  \n",
    "# Print the series \n",
    "print(sr) "
   ]
  },
  {
   "cell_type": "code",
   "execution_count": null,
   "metadata": {},
   "outputs": [],
   "source": []
  }
 ],
 "metadata": {
  "kernelspec": {
   "display_name": "Python 3",
   "language": "python",
   "name": "python3"
  },
  "language_info": {
   "codemirror_mode": {
    "name": "ipython",
    "version": 3
   },
   "file_extension": ".py",
   "mimetype": "text/x-python",
   "name": "python",
   "nbconvert_exporter": "python",
   "pygments_lexer": "ipython3",
   "version": "3.8.2"
  }
 },
 "nbformat": 4,
 "nbformat_minor": 4
}
